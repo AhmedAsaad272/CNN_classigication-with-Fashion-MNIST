{
  "nbformat": 4,
  "nbformat_minor": 0,
  "metadata": {
    "accelerator": "GPU",
    "colab": {
      "name": "Quiz3.ipynb",
      "provenance": [],
      "collapsed_sections": [],
      "authorship_tag": "ABX9TyNxJ5uuvhpHkyOGaSdeDzaB",
      "include_colab_link": true
    },
    "kernelspec": {
      "display_name": "Python 3",
      "name": "python3"
    }
  },
  "cells": [
    {
      "cell_type": "markdown",
      "metadata": {
        "id": "view-in-github",
        "colab_type": "text"
      },
      "source": [
        "<a href=\"https://colab.research.google.com/github/AhmedAsaad272/CNN_classigication-with-Fashion-MNIST/blob/main/Quiz3.ipynb\" target=\"_parent\"><img src=\"https://colab.research.google.com/assets/colab-badge.svg\" alt=\"Open In Colab\"/></a>"
      ]
    },
    {
      "cell_type": "code",
      "metadata": {
        "id": "1WG_4STIHTqN"
      },
      "source": [
        "#%env CUDA_VISIBLE_DEVICES=2\r\n",
        "\r\n",
        "import torch, torchvision\r\n",
        "from torchvision import datasets, models, transforms\r\n",
        "import torch.nn as nn\r\n",
        "import torch.nn.functional as F\r\n",
        "import torch.optim as optim\r\n",
        "from torch.utils.data import DataLoader\r\n",
        "import time\r\n",
        "from torchsummary import summary\r\n",
        "\r\n",
        "import numpy as np\r\n",
        "import matplotlib.pyplot as plt\r\n",
        "import os\r\n",
        "\r\n",
        "from PIL import Image"
      ],
      "execution_count": 170,
      "outputs": []
    },
    {
      "cell_type": "code",
      "metadata": {
        "id": "v2VxB0LTHbks"
      },
      "source": [
        "#transforming the PIL Image to tensors\r\n",
        "trainset = torchvision.datasets.FashionMNIST(root = \"./data\", train = True, download = True, transform = transforms.ToTensor())\r\n",
        "testset = torchvision.datasets.FashionMNIST(root = \"./data\", train = False, download = True, transform = transforms.ToTensor())"
      ],
      "execution_count": 171,
      "outputs": []
    },
    {
      "cell_type": "code",
      "metadata": {
        "id": "RSG-mEtpHeAL"
      },
      "source": [
        "#loading the training data from trainset\r\n",
        "trainloader = torch.utils.data.DataLoader(trainset, batch_size=4, shuffle = True)\r\n",
        "#loading the test data from testset\r\n",
        "testloader = torch.utils.data.DataLoader(testset, batch_size=4, shuffle=False)\r\n"
      ],
      "execution_count": 188,
      "outputs": []
    },
    {
      "cell_type": "code",
      "metadata": {
        "id": "ky4N_jQtkyjd"
      },
      "source": [
        "train_data_size=len(trainloader)\r\n",
        "valid_data_size=len(testloader)\r\n",
        "test_data_size=len(testloader)"
      ],
      "execution_count": 189,
      "outputs": []
    },
    {
      "cell_type": "code",
      "metadata": {
        "id": "UMeAjkG6HhDL"
      },
      "source": [
        "# define our convolutional neural networks\r\n",
        "class Net(nn.Module):\r\n",
        "    def __init__(self, input_size, num_classes):\r\n",
        "        super(Net, self).__init__()\r\n",
        "\r\n",
        "        self.conv1 = nn.Conv2d(1, 6, 5)\r\n",
        "        torch.nn.init.xavier_uniform_(self.conv1.weight)\r\n",
        "\r\n",
        "        self.conv2 = nn.Conv2d(6, 12, 5)\r\n",
        "        torch.nn.init.xavier_uniform_(self.conv2.weight)\r\n",
        "\r\n",
        "\r\n",
        "        self.pool = nn.MaxPool2d(2,2) # kernel size 2x2, stride = 2\r\n",
        "\r\n",
        "        n_size = self._get_conv_output(input_size)\r\n",
        "\r\n",
        "        self.fc1 = nn.Linear(n_size, 192)\r\n",
        "        torch.nn.init.xavier_uniform_(self.fc1.weight)\r\n",
        "\r\n",
        "        self.fc2 = nn.Linear(192, 120)\r\n",
        "        torch.nn.init.xavier_uniform_(self.fc2.weight)\r\n",
        "\r\n",
        "        self.fc3 = nn.Linear(120, 60)\r\n",
        "        torch.nn.init.xavier_uniform_(self.fc3.weight)\r\n",
        "\r\n",
        "        self.fc4 = nn.Linear(60,10)\r\n",
        "        torch.nn.init.xavier_uniform_(self.fc4.weight)\r\n",
        "\r\n",
        "        self.dropout = nn.Dropout(0.3)\r\n",
        "\r\n",
        "    def _get_conv_output(self, shape):\r\n",
        "        batch_size = 1\r\n",
        "        input = torch.autograd.Variable(torch.rand(batch_size, *shape))\r\n",
        "        output_feat = self._forward_features(input)\r\n",
        "        n_size = output_feat.data.view(batch_size, -1).size(1)\r\n",
        "        return n_size\r\n",
        "\r\n",
        "    def _forward_features(self, x):\r\n",
        "        x = self.pool(F.relu(self.conv1(x)))\r\n",
        "        x = self.pool(F.relu(self.conv2(x)))\r\n",
        "        \r\n",
        "        return x\r\n",
        "      \r\n",
        "    def forward(self, x):\r\n",
        "        x = self._forward_features(x)\r\n",
        "        x = x.view(x.size(0), -1) # flattening\r\n",
        "        x = F.relu(self.fc1(x))        \r\n",
        "        x = F.relu(self.fc2(x))\r\n",
        "        #x = self.dropout(x)\r\n",
        "        x = F.relu(self.fc3(x))        \r\n",
        "        x = self.fc4(x)\r\n",
        "        return x"
      ],
      "execution_count": 190,
      "outputs": []
    },
    {
      "cell_type": "code",
      "metadata": {
        "id": "swen2RwjHk0c"
      },
      "source": [
        "input_size = (1,28,28)\r\n",
        "num_classes=(10)\r\n",
        "model = Net(input_size , num_classes)\r\n",
        "model = model.to('cuda:0')"
      ],
      "execution_count": 191,
      "outputs": []
    },
    {
      "cell_type": "code",
      "metadata": {
        "colab": {
          "base_uri": "https://localhost:8080/"
        },
        "id": "LnJhxcJFPyAN",
        "outputId": "a80cc694-66ff-4f58-b7bb-792e8b24f25e"
      },
      "source": [
        "model"
      ],
      "execution_count": 192,
      "outputs": [
        {
          "output_type": "execute_result",
          "data": {
            "text/plain": [
              "Net(\n",
              "  (conv1): Conv2d(1, 6, kernel_size=(5, 5), stride=(1, 1))\n",
              "  (conv2): Conv2d(6, 12, kernel_size=(5, 5), stride=(1, 1))\n",
              "  (pool): MaxPool2d(kernel_size=2, stride=2, padding=0, dilation=1, ceil_mode=False)\n",
              "  (fc1): Linear(in_features=192, out_features=192, bias=True)\n",
              "  (fc2): Linear(in_features=192, out_features=120, bias=True)\n",
              "  (fc3): Linear(in_features=120, out_features=60, bias=True)\n",
              "  (fc4): Linear(in_features=60, out_features=10, bias=True)\n",
              "  (dropout): Dropout(p=0.3, inplace=False)\n",
              ")"
            ]
          },
          "metadata": {
            "tags": []
          },
          "execution_count": 192
        }
      ]
    },
    {
      "cell_type": "code",
      "metadata": {
        "id": "SscQTkqFiX9M"
      },
      "source": [
        "# Define Optimizer and Loss Function\r\n",
        "learning_rate = 0.1\r\n",
        "loss_func = nn.CrossEntropyLoss()\r\n",
        "optimizer = optim.SGD(model.parameters(), lr=learning_rate, momentum=0.9)\r\n",
        "#optimizer = optim.Adam(model.parameters(), lr = learning_rate)"
      ],
      "execution_count": 193,
      "outputs": []
    },
    {
      "cell_type": "code",
      "metadata": {
        "id": "Lj3UFWYmjeAW"
      },
      "source": [
        "def train_and_validate(model, loss_criterion, optimizer, epochs=50):\r\n",
        "    '''\r\n",
        "    Function to train and validate\r\n",
        "    Parameters\r\n",
        "        :param model: Model to train and validate\r\n",
        "        :param loss_criterion: Loss Criterion to minimize\r\n",
        "        :param optimizer: Optimizer for computing gradients\r\n",
        "        :param epochs: Number of epochs (default=10)\r\n",
        "  \r\n",
        "    Returns\r\n",
        "        model: Trained Model with best validation accuracy\r\n",
        "        history: (dict object): Having training loss, accuracy and validation loss, accuracy\r\n",
        "    '''\r\n",
        "    \r\n",
        "    start = time.time()\r\n",
        "    history = []\r\n",
        "    best_acc = 0.0\r\n",
        "\r\n",
        "    for epoch in range(epochs):\r\n",
        "        epoch_start = time.time()\r\n",
        "        print(\"Epoch: {}/{}\".format(epoch+1, epochs))\r\n",
        "        \r\n",
        "        # Set to training mode\r\n",
        "        model.train()\r\n",
        "        \r\n",
        "        # Loss and Accuracy within the epoch\r\n",
        "        train_loss = 0.0\r\n",
        "        train_acc = 0.0\r\n",
        "        \r\n",
        "        valid_loss = 0.0\r\n",
        "        valid_acc = 0.0\r\n",
        "        \r\n",
        "        for i, data in enumerate(trainloader):\r\n",
        "\r\n",
        "            inputs, labels = data\r\n",
        "            #moving the input and labels to gpu\r\n",
        "            inputs, labels = inputs.to(device), labels.to(device)\r\n",
        "            \r\n",
        "            # Clean existing gradients\r\n",
        "            optimizer.zero_grad()\r\n",
        "            \r\n",
        "            # Forward pass - compute outputs on input data using the model\r\n",
        "            outputs = model(inputs)\r\n",
        "            \r\n",
        "            # Compute loss\r\n",
        "            loss = loss_criterion(outputs, labels)\r\n",
        "            \r\n",
        "            # Backpropagate the gradients\r\n",
        "            loss.backward()\r\n",
        "            \r\n",
        "            # Update the parameters\r\n",
        "            optimizer.step()\r\n",
        "            \r\n",
        "            # Compute the total loss for the batch and add it to train_loss\r\n",
        "            train_loss += loss.item() * inputs.size(0)\r\n",
        "            \r\n",
        "            # Compute the accuracy\r\n",
        "            ret, predictions = torch.max(outputs.data, 1)\r\n",
        "            correct_counts = predictions.eq(labels.data.view_as(predictions))\r\n",
        "            \r\n",
        "            # Convert correct_counts to float and then compute the mean\r\n",
        "            acc = torch.mean(correct_counts.type(torch.FloatTensor))\r\n",
        "            \r\n",
        "            # Compute total accuracy in the whole batch and add to train_acc\r\n",
        "            train_acc += acc.item() * inputs.size(0)\r\n",
        "            \r\n",
        "            #print(\"Batch number: {:03d}, Training: Loss: {:.4f}, Accuracy: {:.4f}\".format(i, loss.item(), acc.item()))\r\n",
        "\r\n",
        "            \r\n",
        "        # Validation - No gradient tracking needed\r\n",
        "        with torch.no_grad():\r\n",
        "\r\n",
        "            # Set to evaluation mode\r\n",
        "            model.eval()\r\n",
        "\r\n",
        "            # Validation loop\r\n",
        "            for j, data in enumerate(testloader):\r\n",
        "                inputs, labels = data\r\n",
        "                #moving the input and labels to gpu\r\n",
        "                inputs, labels = inputs.to(device), labels.to(device)\r\n",
        "\r\n",
        "                # Forward pass - compute outputs on input data using the model\r\n",
        "                outputs = model(inputs)\r\n",
        "\r\n",
        "                # Compute loss\r\n",
        "                loss = loss_criterion(outputs, labels)\r\n",
        "\r\n",
        "                # Compute the total loss for the batch and add it to valid_loss\r\n",
        "                valid_loss += loss.item() * inputs.size(0)\r\n",
        "\r\n",
        "                # Calculate validation accuracy\r\n",
        "                ret, predictions = torch.max(outputs.data, 1)\r\n",
        "                correct_counts = predictions.eq(labels.data.view_as(predictions))\r\n",
        "\r\n",
        "                # Convert correct_counts to float and then compute the mean\r\n",
        "                acc = torch.mean(correct_counts.type(torch.FloatTensor))\r\n",
        "\r\n",
        "                # Compute total accuracy in the whole batch and add to valid_acc\r\n",
        "                valid_acc += acc.item() * inputs.size(0)\r\n",
        "\r\n",
        "                #print(\"Validation Batch number: {:03d}, Validation: Loss: {:.4f}, Accuracy: {:.4f}\".format(j, loss.item(), acc.item()))\r\n",
        "            \r\n",
        "        # Find average training loss and training accuracy\r\n",
        "        avg_train_loss = train_loss/train_data_size \r\n",
        "        avg_train_acc = train_acc/train_data_size\r\n",
        "\r\n",
        "        # Find average training loss and training accuracy\r\n",
        "        avg_valid_loss = valid_loss/valid_data_size \r\n",
        "        avg_valid_acc = valid_acc/valid_data_size\r\n",
        "\r\n",
        "        history.append([avg_train_loss, avg_valid_loss, avg_train_acc, avg_valid_acc])\r\n",
        "                \r\n",
        "        epoch_end = time.time()\r\n",
        "    \r\n",
        "        print(\"Epoch : {:03d}, Training: Loss: {:.4f}, Accuracy: {:.4f}%, \\n\\t\\tValidation : Loss : {:.4f}, Accuracy: {:.4f}%, Time: {:.4f}s\".format(epoch, avg_train_loss, avg_train_acc*100, avg_valid_loss, avg_valid_acc*100, epoch_end-epoch_start))\r\n",
        "        \r\n",
        "        # Save if the model has best accuracy till now\r\n",
        "        torch.save(model, dataset+'_model_'+str(epoch)+'.pt')\r\n",
        "            \r\n",
        "    return model, history\r\n",
        "    "
      ],
      "execution_count": 194,
      "outputs": []
    },
    {
      "cell_type": "code",
      "metadata": {
        "colab": {
          "base_uri": "https://localhost:8080/"
        },
        "id": "dZz7HGbYoQ7H",
        "outputId": "cadccad8-f45d-46d3-eeb5-0fb51396c72b"
      },
      "source": [
        "device = torch.device(\"cuda:0\" if torch.cuda.is_available() else \"cpu\")\r\n",
        "\r\n",
        "# Print the model to be trained\r\n",
        "#summary(resnet50, input_size=(3, 224, 224), batch_size=bs, device='cuda')\r\n",
        "\r\n",
        "# Train the model for 10 epochs\r\n",
        "num_epochs = 50\r\n",
        "trained_model, history = train_and_validate(model, loss_func, optimizer, num_epochs)\r\n",
        "\r\n",
        "torch.save(history, dataset+'_history.pt')"
      ],
      "execution_count": 195,
      "outputs": [
        {
          "output_type": "stream",
          "text": [
            "Epoch: 1/50\n",
            "Epoch : 000, Training: Loss: 9.4368, Accuracy: 39.9600%, \n",
            "\t\tValidation : Loss : 9.5229, Accuracy: 40.0000%, Time: 50.7059s\n",
            "Epoch: 2/50\n",
            "Epoch : 001, Training: Loss: 9.4346, Accuracy: 40.1067%, \n",
            "\t\tValidation : Loss : 9.4882, Accuracy: 40.0000%, Time: 50.4686s\n",
            "Epoch: 3/50\n",
            "Epoch : 002, Training: Loss: 9.4370, Accuracy: 40.3933%, \n",
            "\t\tValidation : Loss : 9.3643, Accuracy: 40.0000%, Time: 50.0274s\n",
            "Epoch: 4/50\n",
            "Epoch : 003, Training: Loss: 9.4383, Accuracy: 39.9133%, \n",
            "\t\tValidation : Loss : 9.3143, Accuracy: 40.0000%, Time: 50.5769s\n",
            "Epoch: 5/50\n",
            "Epoch : 004, Training: Loss: 9.4380, Accuracy: 40.2600%, \n",
            "\t\tValidation : Loss : 9.3410, Accuracy: 40.0000%, Time: 50.8564s\n",
            "Epoch: 6/50\n",
            "Epoch : 005, Training: Loss: 9.4366, Accuracy: 39.3667%, \n",
            "\t\tValidation : Loss : 9.4226, Accuracy: 40.0000%, Time: 50.9439s\n",
            "Epoch: 7/50\n",
            "Epoch : 006, Training: Loss: 9.4352, Accuracy: 40.0400%, \n",
            "\t\tValidation : Loss : 9.6015, Accuracy: 40.0000%, Time: 50.6604s\n",
            "Epoch: 8/50\n",
            "Epoch : 007, Training: Loss: 9.4370, Accuracy: 40.6400%, \n",
            "\t\tValidation : Loss : 9.5516, Accuracy: 40.0000%, Time: 50.9037s\n",
            "Epoch: 9/50\n",
            "Epoch : 008, Training: Loss: 9.4441, Accuracy: 39.7000%, \n",
            "\t\tValidation : Loss : 9.4671, Accuracy: 40.0000%, Time: 51.0978s\n",
            "Epoch: 10/50\n",
            "Epoch : 009, Training: Loss: 9.4375, Accuracy: 40.0133%, \n",
            "\t\tValidation : Loss : 9.3483, Accuracy: 40.0000%, Time: 51.7914s\n",
            "Epoch: 11/50\n",
            "Epoch : 010, Training: Loss: 9.4362, Accuracy: 39.3933%, \n",
            "\t\tValidation : Loss : 9.3795, Accuracy: 40.0000%, Time: 51.3091s\n",
            "Epoch: 12/50\n",
            "Epoch : 011, Training: Loss: 9.4367, Accuracy: 40.3267%, \n",
            "\t\tValidation : Loss : 9.7673, Accuracy: 40.0000%, Time: 51.5469s\n",
            "Epoch: 13/50\n",
            "Epoch : 012, Training: Loss: 9.4418, Accuracy: 39.1533%, \n",
            "\t\tValidation : Loss : 9.3581, Accuracy: 40.0000%, Time: 51.9416s\n",
            "Epoch: 14/50\n",
            "Epoch : 013, Training: Loss: 9.4381, Accuracy: 39.3933%, \n",
            "\t\tValidation : Loss : 9.4339, Accuracy: 40.0000%, Time: 52.4496s\n",
            "Epoch: 15/50\n",
            "Epoch : 014, Training: Loss: 9.4365, Accuracy: 39.6067%, \n",
            "\t\tValidation : Loss : 9.4755, Accuracy: 40.0000%, Time: 50.7415s\n",
            "Epoch: 16/50\n",
            "Epoch : 015, Training: Loss: 9.4390, Accuracy: 39.9800%, \n",
            "\t\tValidation : Loss : 9.3420, Accuracy: 40.0000%, Time: 50.3335s\n",
            "Epoch: 17/50\n",
            "Epoch : 016, Training: Loss: 9.4417, Accuracy: 39.2600%, \n",
            "\t\tValidation : Loss : 9.3976, Accuracy: 40.0000%, Time: 51.5511s\n",
            "Epoch: 18/50\n",
            "Epoch : 017, Training: Loss: 9.4410, Accuracy: 39.8533%, \n",
            "\t\tValidation : Loss : 9.5013, Accuracy: 40.0000%, Time: 49.8025s\n",
            "Epoch: 19/50\n",
            "Epoch : 018, Training: Loss: 9.4387, Accuracy: 39.6733%, \n",
            "\t\tValidation : Loss : 9.5676, Accuracy: 40.0000%, Time: 50.5844s\n",
            "Epoch: 20/50\n",
            "Epoch : 019, Training: Loss: 9.4341, Accuracy: 40.8733%, \n",
            "\t\tValidation : Loss : 9.5295, Accuracy: 40.0000%, Time: 50.1803s\n",
            "Epoch: 21/50\n",
            "Epoch : 020, Training: Loss: 9.4354, Accuracy: 40.3200%, \n",
            "\t\tValidation : Loss : 9.6149, Accuracy: 40.0000%, Time: 51.0895s\n",
            "Epoch: 22/50\n",
            "Epoch : 021, Training: Loss: 9.4404, Accuracy: 40.1733%, \n",
            "\t\tValidation : Loss : 9.4374, Accuracy: 40.0000%, Time: 51.6934s\n",
            "Epoch: 23/50\n",
            "Epoch : 022, Training: Loss: 9.4386, Accuracy: 39.4267%, \n",
            "\t\tValidation : Loss : 9.4396, Accuracy: 40.0000%, Time: 52.2956s\n",
            "Epoch: 24/50\n",
            "Epoch : 023, Training: Loss: 9.4383, Accuracy: 40.0133%, \n",
            "\t\tValidation : Loss : 9.4617, Accuracy: 40.0000%, Time: 50.6634s\n",
            "Epoch: 25/50\n",
            "Epoch : 024, Training: Loss: 9.4393, Accuracy: 40.0800%, \n",
            "\t\tValidation : Loss : 9.4613, Accuracy: 40.0000%, Time: 49.7481s\n",
            "Epoch: 26/50\n",
            "Epoch : 025, Training: Loss: 9.4367, Accuracy: 39.5600%, \n",
            "\t\tValidation : Loss : 9.5575, Accuracy: 40.0000%, Time: 50.9753s\n",
            "Epoch: 27/50\n",
            "Epoch : 026, Training: Loss: 9.4373, Accuracy: 39.7067%, \n",
            "\t\tValidation : Loss : 9.3903, Accuracy: 40.0000%, Time: 50.5977s\n",
            "Epoch: 28/50\n",
            "Epoch : 027, Training: Loss: 9.4386, Accuracy: 39.4133%, \n",
            "\t\tValidation : Loss : 9.5453, Accuracy: 40.0000%, Time: 50.1334s\n",
            "Epoch: 29/50\n",
            "Epoch : 028, Training: Loss: 9.4401, Accuracy: 39.7800%, \n",
            "\t\tValidation : Loss : 9.3216, Accuracy: 40.0000%, Time: 50.3209s\n",
            "Epoch: 30/50\n",
            "Epoch : 029, Training: Loss: 9.4309, Accuracy: 40.5267%, \n",
            "\t\tValidation : Loss : 9.4453, Accuracy: 40.0000%, Time: 50.2052s\n",
            "Epoch: 31/50\n",
            "Epoch : 030, Training: Loss: 9.4412, Accuracy: 39.5467%, \n",
            "\t\tValidation : Loss : 9.2866, Accuracy: 40.0000%, Time: 50.8683s\n",
            "Epoch: 32/50\n",
            "Epoch : 031, Training: Loss: 9.4398, Accuracy: 39.5867%, \n",
            "\t\tValidation : Loss : 9.4122, Accuracy: 40.0000%, Time: 50.6068s\n",
            "Epoch: 33/50\n",
            "Epoch : 032, Training: Loss: 9.4368, Accuracy: 40.4867%, \n",
            "\t\tValidation : Loss : 9.4046, Accuracy: 40.0000%, Time: 50.2640s\n",
            "Epoch: 34/50\n",
            "Epoch : 033, Training: Loss: 9.4385, Accuracy: 40.1933%, \n",
            "\t\tValidation : Loss : 9.6349, Accuracy: 40.0000%, Time: 51.1327s\n",
            "Epoch: 35/50\n",
            "Epoch : 034, Training: Loss: 9.4371, Accuracy: 40.0467%, \n",
            "\t\tValidation : Loss : 9.5584, Accuracy: 40.0000%, Time: 51.0676s\n",
            "Epoch: 36/50\n",
            "Epoch : 035, Training: Loss: 9.4326, Accuracy: 40.1267%, \n",
            "\t\tValidation : Loss : 9.5820, Accuracy: 40.0000%, Time: 51.0158s\n",
            "Epoch: 37/50\n",
            "Epoch : 036, Training: Loss: 9.4373, Accuracy: 39.7933%, \n",
            "\t\tValidation : Loss : 9.3292, Accuracy: 40.0000%, Time: 50.8251s\n",
            "Epoch: 38/50\n",
            "Epoch : 037, Training: Loss: 9.4383, Accuracy: 39.8867%, \n",
            "\t\tValidation : Loss : 9.4059, Accuracy: 40.0000%, Time: 49.9925s\n",
            "Epoch: 39/50\n",
            "Epoch : 038, Training: Loss: 9.4426, Accuracy: 39.7133%, \n",
            "\t\tValidation : Loss : 9.4649, Accuracy: 40.0000%, Time: 50.1308s\n",
            "Epoch: 40/50\n",
            "Epoch : 039, Training: Loss: 9.4375, Accuracy: 40.3533%, \n",
            "\t\tValidation : Loss : 9.5509, Accuracy: 40.0000%, Time: 50.9743s\n",
            "Epoch: 41/50\n",
            "Epoch : 040, Training: Loss: 9.4372, Accuracy: 39.8600%, \n",
            "\t\tValidation : Loss : 9.3906, Accuracy: 40.0000%, Time: 51.5688s\n",
            "Epoch: 42/50\n",
            "Epoch : 041, Training: Loss: 9.4274, Accuracy: 39.3000%, \n",
            "\t\tValidation : Loss : 9.5556, Accuracy: 40.0000%, Time: 49.6566s\n",
            "Epoch: 43/50\n",
            "Epoch : 042, Training: Loss: 9.4352, Accuracy: 40.8000%, \n",
            "\t\tValidation : Loss : 9.3936, Accuracy: 40.0000%, Time: 50.9278s\n",
            "Epoch: 44/50\n",
            "Epoch : 043, Training: Loss: 9.4398, Accuracy: 39.3467%, \n",
            "\t\tValidation : Loss : 9.5603, Accuracy: 40.0000%, Time: 50.7545s\n",
            "Epoch: 45/50\n",
            "Epoch : 044, Training: Loss: 9.4359, Accuracy: 39.6733%, \n",
            "\t\tValidation : Loss : 9.3276, Accuracy: 40.0000%, Time: 51.2193s\n",
            "Epoch: 46/50\n",
            "Epoch : 045, Training: Loss: 9.4380, Accuracy: 39.3400%, \n",
            "\t\tValidation : Loss : 9.3537, Accuracy: 40.0000%, Time: 50.7574s\n",
            "Epoch: 47/50\n",
            "Epoch : 046, Training: Loss: 9.4401, Accuracy: 40.7600%, \n",
            "\t\tValidation : Loss : 9.4914, Accuracy: 40.0000%, Time: 51.8034s\n",
            "Epoch: 48/50\n",
            "Epoch : 047, Training: Loss: 9.4418, Accuracy: 40.4667%, \n",
            "\t\tValidation : Loss : 9.2635, Accuracy: 40.0000%, Time: 50.7136s\n",
            "Epoch: 49/50\n",
            "Epoch : 048, Training: Loss: 9.4360, Accuracy: 40.2533%, \n",
            "\t\tValidation : Loss : 9.3214, Accuracy: 40.0000%, Time: 50.4884s\n",
            "Epoch: 50/50\n",
            "Epoch : 049, Training: Loss: 9.4369, Accuracy: 39.7733%, \n",
            "\t\tValidation : Loss : 9.9324, Accuracy: 40.0000%, Time: 50.4280s\n"
          ],
          "name": "stdout"
        }
      ]
    },
    {
      "cell_type": "code",
      "metadata": {
        "id": "UrPIem6drUax",
        "colab": {
          "base_uri": "https://localhost:8080/",
          "height": 283
        },
        "outputId": "95156733-7115-4d9c-c334-ca489354b3c2"
      },
      "source": [
        "history = np.array(history)\r\n",
        "plt.plot(history[:,0:2])\r\n",
        "plt.legend(['Tr Loss', 'Val Loss'])\r\n",
        "plt.xlabel('Epoch Number')\r\n",
        "plt.ylabel('Loss')\r\n",
        "plt.ylim(0,1)\r\n",
        "plt.savefig(dataset+'_loss_curve.png')\r\n",
        "plt.show()"
      ],
      "execution_count": 196,
      "outputs": [
        {
          "output_type": "display_data",
          "data": {
            "image/png": "[encoded data removed]",
            "text/plain": [
              "<Figure size 432x288 with 1 Axes>"
            ]
          },
          "metadata": {
            "tags": [],
            "needs_background": "light"
          }
        }
      ]
    },
    {
      "cell_type": "code",
      "metadata": {
        "colab": {
          "base_uri": "https://localhost:8080/",
          "height": 283
        },
        "id": "lTN3TE1DhDOG",
        "outputId": "f89cc523-b423-4e14-d904-006a68a071a8"
      },
      "source": [
        "plt.plot(history[:,2:4])\r\n",
        "plt.legend(['Tr Accuracy', 'Val Accuracy'])\r\n",
        "plt.xlabel('Epoch Number')\r\n",
        "plt.ylabel('Accuracy')\r\n",
        "plt.ylim(0,1)\r\n",
        "plt.savefig(dataset+'_accuracy_curve.png')\r\n",
        "plt.show()"
      ],
      "execution_count": 197,
      "outputs": [
        {
          "output_type": "display_data",
          "data": {
            "image/png": "[encoded data removed]",
            "text/plain": [
              "<Figure size 432x288 with 1 Axes>"
            ]
          },
          "metadata": {
            "tags": [],
            "needs_background": "light"
          }
        }
      ]
    }
  ]
}