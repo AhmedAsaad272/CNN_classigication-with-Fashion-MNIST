{
  "nbformat": 4,
  "nbformat_minor": 0,
  "metadata": {
    "accelerator": "GPU",
    "colab": {
      "name": "Quiz3.ipynb",
      "provenance": [],
      "collapsed_sections": [],
      "authorship_tag": "ABX9TyOGoVvG4JLyCDlFJMU4gcxP",
      "include_colab_link": true
    },
    "kernelspec": {
      "display_name": "Python 3",
      "name": "python3"
    }
  },
  "cells": [
    {
      "cell_type": "markdown",
      "metadata": {
        "id": "view-in-github",
        "colab_type": "text"
      },
      "source": [
        "<a href=\"https://colab.research.google.com/github/AhmedAsaad272/CNN_classigication-with-Fashion-MNIST/blob/main/Quiz3.ipynb\" target=\"_parent\"><img src=\"https://colab.research.google.com/assets/colab-badge.svg\" alt=\"Open In Colab\"/></a>"
      ]
    },
    {
      "cell_type": "code",
      "metadata": {
        "id": "1WG_4STIHTqN"
      },
      "source": [
        "#%env CUDA_VISIBLE_DEVICES=2\r\n",
        "\r\n",
        "import torch, torchvision\r\n",
        "from torchvision import datasets, models, transforms\r\n",
        "import torch.nn as nn\r\n",
        "import torch.nn.functional as F\r\n",
        "import torch.optim as optim\r\n",
        "from torch.utils.data import DataLoader\r\n",
        "import time\r\n",
        "from torchsummary import summary\r\n",
        "\r\n",
        "import numpy as np\r\n",
        "import matplotlib.pyplot as plt\r\n",
        "import os\r\n",
        "\r\n",
        "from PIL import Image"
      ],
      "execution_count": null,
      "outputs": []
    },
    {
      "cell_type": "code",
      "metadata": {
        "colab": {
          "base_uri": "https://localhost:8080/"
        },
        "id": "vGC4xg8HuRLW",
        "outputId": "e54c5f69-da31-4758-ce49-8d78d0c796c6"
      },
      "source": [
        "# mount drive so that we can save the model to google drive\r\n",
        "\r\n",
        "from google.colab import drive\r\n",
        "drive.mount(\"/content/drive\")"
      ],
      "execution_count": null,
      "outputs": [
        {
          "output_type": "stream",
          "text": [
            "Drive already mounted at /content/drive; to attempt to forcibly remount, call drive.mount(\"/content/drive\", force_remount=True).\n"
          ],
          "name": "stdout"
        }
      ]
    },
    {
      "cell_type": "code",
      "metadata": {
        "id": "aOA5MCGzueat"
      },
      "source": [
        "dataset = '/content/drive/My Drive/'"
      ],
      "execution_count": null,
      "outputs": []
    },
    {
      "cell_type": "code",
      "metadata": {
        "id": "v2VxB0LTHbks"
      },
      "source": [
        "#transforming the PIL Image to tensors\r\n",
        "trainset = torchvision.datasets.FashionMNIST(root = \"./data\", train = True, download = True, transform = transforms.ToTensor())\r\n",
        "testset = torchvision.datasets.FashionMNIST(root = \"./data\", train = False, download = True, transform = transforms.ToTensor())"
      ],
      "execution_count": null,
      "outputs": []
    },
    {
      "cell_type": "code",
      "metadata": {
        "id": "RSG-mEtpHeAL"
      },
      "source": [
        "train_data_size=6000\r\n",
        "valid_data_size=1000\r\n",
        "test_data_size=1000\r\n",
        "#loading the training data from trainset\r\n",
        "trainloader = torch.utils.data.DataLoader(trainset, batch_size=10, shuffle = True)\r\n",
        "#loading the test data from testset\r\n",
        "testloader = torch.utils.data.DataLoader(testset, batch_size=10, shuffle=False)"
      ],
      "execution_count": 149,
      "outputs": []
    },
    {
      "cell_type": "code",
      "metadata": {
        "colab": {
          "base_uri": "https://localhost:8080/"
        },
        "id": "ky4N_jQtkyjd",
        "outputId": "e6393727-b0dd-43d8-8970-1b91fa43f057"
      },
      "source": [
        "a=len(testloader)\r\n",
        "a"
      ],
      "execution_count": 150,
      "outputs": [
        {
          "output_type": "execute_result",
          "data": {
            "text/plain": [
              "1000"
            ]
          },
          "metadata": {
            "tags": []
          },
          "execution_count": 150
        }
      ]
    },
    {
      "cell_type": "code",
      "metadata": {
        "id": "UMeAjkG6HhDL"
      },
      "source": [
        "# define our convolutional neural networks\r\n",
        "class Net(nn.Module):\r\n",
        "    def __init__(self, input_size, num_classes):\r\n",
        "        super(Net, self).__init__()\r\n",
        "\r\n",
        "        self.conv1 = nn.Conv2d(1, 6, 5)\r\n",
        "        torch.nn.init.xavier_uniform_(self.conv1.weight)\r\n",
        "\r\n",
        "        self.conv2 = nn.Conv2d(6, 12, 5)\r\n",
        "        torch.nn.init.xavier_uniform_(self.conv2.weight)\r\n",
        "\r\n",
        "\r\n",
        "        self.pool = nn.MaxPool2d(2,2) # kernel size 2x2, stride = 2\r\n",
        "\r\n",
        "        n_size = self._get_conv_output(input_size)\r\n",
        "\r\n",
        "        self.fc1 = nn.Linear(n_size, 192)\r\n",
        "        torch.nn.init.xavier_uniform_(self.fc1.weight)\r\n",
        "\r\n",
        "        self.fc2 = nn.Linear(192, 120)\r\n",
        "        torch.nn.init.xavier_uniform_(self.fc2.weight)\r\n",
        "\r\n",
        "        self.fc3 = nn.Linear(120, 60)\r\n",
        "        torch.nn.init.xavier_uniform_(self.fc3.weight)\r\n",
        "\r\n",
        "        self.fc4 = nn.Linear(60,10)\r\n",
        "        torch.nn.init.xavier_uniform_(self.fc4.weight)\r\n",
        "\r\n",
        "        self.dropout = nn.Dropout(0.3)\r\n",
        "\r\n",
        "    def _get_conv_output(self, shape):\r\n",
        "        batch_size = 1\r\n",
        "        input = torch.autograd.Variable(torch.rand(batch_size, *shape))\r\n",
        "        output_feat = self._forward_features(input)\r\n",
        "        n_size = output_feat.data.view(batch_size, -1).size(1)\r\n",
        "        return n_size\r\n",
        "\r\n",
        "    def _forward_features(self, x):\r\n",
        "        x = self.pool(F.relu(self.conv1(x)))\r\n",
        "        x = self.pool(F.relu(self.conv2(x)))\r\n",
        "        \r\n",
        "        return x\r\n",
        "      \r\n",
        "    def forward(self, x):\r\n",
        "        x = self._forward_features(x)\r\n",
        "        x = x.view(x.size(0), -1) # flattening\r\n",
        "        x = F.relu(self.fc1(x))        \r\n",
        "        x = F.relu(self.fc2(x))\r\n",
        "        #x = self.dropout(x)\r\n",
        "        x = F.relu(self.fc3(x))        \r\n",
        "        x = self.fc4(x)\r\n",
        "        return x"
      ],
      "execution_count": 151,
      "outputs": []
    },
    {
      "cell_type": "code",
      "metadata": {
        "id": "swen2RwjHk0c"
      },
      "source": [
        "input_size = (1,28,28)\r\n",
        "num_classes=(10)\r\n",
        "model = Net(input_size , num_classes)\r\n",
        "model = model.to('cuda:0')"
      ],
      "execution_count": 152,
      "outputs": []
    },
    {
      "cell_type": "code",
      "metadata": {
        "colab": {
          "base_uri": "https://localhost:8080/"
        },
        "id": "LnJhxcJFPyAN",
        "outputId": "69fb749d-9d03-45c5-a2b4-b521316d73fd"
      },
      "source": [
        "model"
      ],
      "execution_count": 153,
      "outputs": [
        {
          "output_type": "execute_result",
          "data": {
            "text/plain": [
              "Net(\n",
              "  (conv1): Conv2d(1, 6, kernel_size=(5, 5), stride=(1, 1))\n",
              "  (conv2): Conv2d(6, 12, kernel_size=(5, 5), stride=(1, 1))\n",
              "  (pool): MaxPool2d(kernel_size=2, stride=2, padding=0, dilation=1, ceil_mode=False)\n",
              "  (fc1): Linear(in_features=192, out_features=192, bias=True)\n",
              "  (fc2): Linear(in_features=192, out_features=120, bias=True)\n",
              "  (fc3): Linear(in_features=120, out_features=60, bias=True)\n",
              "  (fc4): Linear(in_features=60, out_features=10, bias=True)\n",
              "  (dropout): Dropout(p=0.3, inplace=False)\n",
              ")"
            ]
          },
          "metadata": {
            "tags": []
          },
          "execution_count": 153
        }
      ]
    },
    {
      "cell_type": "code",
      "metadata": {
        "id": "SscQTkqFiX9M"
      },
      "source": [
        "# Define Optimizer and Loss Function\r\n",
        "learning_rate = 0.1\r\n",
        "loss_func = nn.CrossEntropyLoss()\r\n",
        "optimizer = optim.SGD(model.parameters(), lr=learning_rate, momentum=0.9)\r\n",
        "#optimizer = optim.Adam(model.parameters(), lr = learning_rate)"
      ],
      "execution_count": 154,
      "outputs": []
    },
    {
      "cell_type": "code",
      "metadata": {
        "id": "Lj3UFWYmjeAW"
      },
      "source": [
        "def train_and_validate(model, loss_criterion, optimizer, epochs=50):\r\n",
        "    '''\r\n",
        "    Function to train and validate\r\n",
        "    Parameters\r\n",
        "        :param model: Model to train and validate\r\n",
        "        :param loss_criterion: Loss Criterion to minimize\r\n",
        "        :param optimizer: Optimizer for computing gradients\r\n",
        "        :param epochs: Number of epochs (default=10)\r\n",
        "  \r\n",
        "    Returns\r\n",
        "        model: Trained Model with best validation accuracy\r\n",
        "        history: (dict object): Having training loss, accuracy and validation loss, accuracy\r\n",
        "    '''\r\n",
        "    \r\n",
        "    start = time.time()\r\n",
        "    history = []\r\n",
        "    best_acc = 0.0\r\n",
        "\r\n",
        "    for epoch in range(epochs):\r\n",
        "        epoch_start = time.time()\r\n",
        "        print(\"Epoch: {}/{}\".format(epoch+1, epochs))\r\n",
        "        \r\n",
        "        # Set to training mode\r\n",
        "        model.train()\r\n",
        "        \r\n",
        "        # Loss and Accuracy within the epoch\r\n",
        "        train_loss = 0.0\r\n",
        "        train_acc = 0.0\r\n",
        "        \r\n",
        "        valid_loss = 0.0\r\n",
        "        valid_acc = 0.0\r\n",
        "        \r\n",
        "        for i, data in enumerate(trainloader):\r\n",
        "\r\n",
        "            inputs, labels = data\r\n",
        "            #moving the input and labels to gpu\r\n",
        "            inputs, labels = inputs.to(device), labels.to(device)\r\n",
        "            \r\n",
        "            # Clean existing gradients\r\n",
        "            optimizer.zero_grad()\r\n",
        "            \r\n",
        "            # Forward pass - compute outputs on input data using the model\r\n",
        "            outputs = model(inputs)\r\n",
        "            \r\n",
        "            # Compute loss\r\n",
        "            loss = loss_criterion(outputs, labels)\r\n",
        "            \r\n",
        "            # Backpropagate the gradients\r\n",
        "            loss.backward()\r\n",
        "            \r\n",
        "            # Update the parameters\r\n",
        "            optimizer.step()\r\n",
        "            \r\n",
        "            # Compute the total loss for the batch and add it to train_loss\r\n",
        "            train_loss += loss.item() * inputs.size(0)\r\n",
        "            \r\n",
        "            # Compute the accuracy\r\n",
        "            ret, predictions = torch.max(outputs.data, 1)\r\n",
        "            correct_counts = predictions.eq(labels.data.view_as(predictions))\r\n",
        "            \r\n",
        "            # Convert correct_counts to float and then compute the mean\r\n",
        "            acc = torch.mean(correct_counts.type(torch.FloatTensor))\r\n",
        "            \r\n",
        "            # Compute total accuracy in the whole batch and add to train_acc\r\n",
        "            train_acc += acc.item() * inputs.size(0)\r\n",
        "            \r\n",
        "            #print(\"Batch number: {:03d}, Training: Loss: {:.4f}, Accuracy: {:.4f}\".format(i, loss.item(), acc.item()))\r\n",
        "\r\n",
        "            \r\n",
        "        # Validation - No gradient tracking needed\r\n",
        "        with torch.no_grad():\r\n",
        "\r\n",
        "            # Set to evaluation mode\r\n",
        "            model.eval()\r\n",
        "\r\n",
        "            # Validation loop\r\n",
        "            for j, data in enumerate(testloader):\r\n",
        "                inputs, labels = data\r\n",
        "                #moving the input and labels to gpu\r\n",
        "                inputs, labels = inputs.to(device), labels.to(device)\r\n",
        "\r\n",
        "                # Forward pass - compute outputs on input data using the model\r\n",
        "                outputs = model(inputs)\r\n",
        "\r\n",
        "                # Compute loss\r\n",
        "                loss = loss_criterion(outputs, labels)\r\n",
        "\r\n",
        "                # Compute the total loss for the batch and add it to valid_loss\r\n",
        "                valid_loss += loss.item() * inputs.size(0)\r\n",
        "\r\n",
        "                # Calculate validation accuracy\r\n",
        "                ret, predictions = torch.max(outputs.data, 1)\r\n",
        "                correct_counts = predictions.eq(labels.data.view_as(predictions))\r\n",
        "\r\n",
        "                # Convert correct_counts to float and then compute the mean\r\n",
        "                acc = torch.mean(correct_counts.type(torch.FloatTensor))\r\n",
        "\r\n",
        "                # Compute total accuracy in the whole batch and add to valid_acc\r\n",
        "                valid_acc += acc.item() * inputs.size(0)\r\n",
        "\r\n",
        "                #print(\"Validation Batch number: {:03d}, Validation: Loss: {:.4f}, Accuracy: {:.4f}\".format(j, loss.item(), acc.item()))\r\n",
        "            \r\n",
        "        # Find average training loss and training accuracy\r\n",
        "        avg_train_loss = train_loss/train_data_size \r\n",
        "        avg_train_acc = train_acc/train_data_size\r\n",
        "\r\n",
        "        # Find average training loss and training accuracy\r\n",
        "        avg_valid_loss = valid_loss/valid_data_size \r\n",
        "        avg_valid_acc = valid_acc/valid_data_size\r\n",
        "\r\n",
        "        history.append([avg_train_loss, avg_valid_loss, avg_train_acc, avg_valid_acc])\r\n",
        "                \r\n",
        "        epoch_end = time.time()\r\n",
        "    \r\n",
        "        print(\"Epoch : {:03d}, Training: Loss: {:.4f}, Accuracy: {:.4f}%, \\n\\t\\tValidation : Loss : {:.4f}, Accuracy: {:.4f}%, Time: {:.4f}s\".format(epoch, avg_train_loss, avg_train_acc*100, avg_valid_loss, avg_valid_acc*100, epoch_end-epoch_start))\r\n",
        "        \r\n",
        "        # Save if the model has best accuracy till now\r\n",
        "        torch.save(model, dataset+'_model_'+str(epoch)+'.pt')\r\n",
        "            \r\n",
        "    return model, history\r\n",
        "    "
      ],
      "execution_count": 155,
      "outputs": []
    },
    {
      "cell_type": "code",
      "metadata": {
        "colab": {
          "base_uri": "https://localhost:8080/"
        },
        "id": "dZz7HGbYoQ7H",
        "outputId": "b42eaf0d-518b-4fcf-ab84-2f46d97b98c2"
      },
      "source": [
        "device = torch.device(\"cuda:0\" if torch.cuda.is_available() else \"cpu\")\r\n",
        "\r\n",
        "# Print the model to be trained\r\n",
        "#summary(resnet50, input_size=(3, 224, 224), batch_size=bs, device='cuda')\r\n",
        "\r\n",
        "# Train the model for 10 epochs\r\n",
        "num_epochs = 50\r\n",
        "trained_model, history = train_and_validate(model, loss_func, optimizer, num_epochs)\r\n",
        "\r\n",
        "torch.save(history, dataset+'_history.pt')"
      ],
      "execution_count": null,
      "outputs": [
        {
          "output_type": "stream",
          "text": [
            "Epoch: 1/50\n",
            "Epoch : 000, Training: Loss: 23.3794, Accuracy: 104.5500%, \n",
            "\t\tValidation : Loss : 23.1679, Accuracy: 100.0000%, Time: 22.8281s\n",
            "Epoch: 2/50\n",
            "Epoch : 001, Training: Loss: 23.2519, Accuracy: 99.9500%, \n",
            "\t\tValidation : Loss : 23.2034, Accuracy: 100.0000%, Time: 23.4262s\n",
            "Epoch: 3/50\n",
            "Epoch : 002, Training: Loss: 23.2650, Accuracy: 99.6500%, \n",
            "\t\tValidation : Loss : 23.3678, Accuracy: 100.0000%, Time: 23.5069s\n",
            "Epoch: 4/50\n",
            "Epoch : 003, Training: Loss: 23.2627, Accuracy: 99.4333%, \n",
            "\t\tValidation : Loss : 23.1521, Accuracy: 100.0000%, Time: 23.4101s\n",
            "Epoch: 5/50\n",
            "Epoch : 004, Training: Loss: 23.2561, Accuracy: 101.0667%, \n",
            "\t\tValidation : Loss : 23.2206, Accuracy: 100.0000%, Time: 23.4529s\n",
            "Epoch: 6/50\n",
            "Epoch : 005, Training: Loss: 23.2574, Accuracy: 99.9167%, \n",
            "\t\tValidation : Loss : 23.2027, Accuracy: 100.0000%, Time: 22.7672s\n",
            "Epoch: 7/50\n",
            "Epoch : 006, Training: Loss: 23.2494, Accuracy: 100.1167%, \n",
            "\t\tValidation : Loss : 23.5566, Accuracy: 100.0000%, Time: 22.8785s\n",
            "Epoch: 8/50\n",
            "Epoch : 007, Training: Loss: 23.2413, Accuracy: 104.1833%, \n",
            "\t\tValidation : Loss : 23.2943, Accuracy: 100.0000%, Time: 22.7944s\n",
            "Epoch: 9/50\n",
            "Epoch : 008, Training: Loss: 23.2541, Accuracy: 100.4500%, \n",
            "\t\tValidation : Loss : 23.1586, Accuracy: 100.0000%, Time: 22.3747s\n",
            "Epoch: 10/50\n",
            "Epoch : 009, Training: Loss: 23.2499, Accuracy: 99.4167%, \n",
            "\t\tValidation : Loss : 23.3270, Accuracy: 100.0000%, Time: 23.6944s\n",
            "Epoch: 11/50\n",
            "Epoch : 010, Training: Loss: 23.2588, Accuracy: 98.6667%, \n",
            "\t\tValidation : Loss : 23.1884, Accuracy: 100.0000%, Time: 23.3339s\n",
            "Epoch: 12/50\n",
            "Epoch : 011, Training: Loss: 23.2552, Accuracy: 100.1500%, \n",
            "\t\tValidation : Loss : 23.2583, Accuracy: 100.0000%, Time: 22.7925s\n",
            "Epoch: 13/50\n",
            "Epoch : 012, Training: Loss: 23.2456, Accuracy: 100.9167%, \n",
            "\t\tValidation : Loss : 23.1644, Accuracy: 100.0000%, Time: 23.8402s\n",
            "Epoch: 14/50\n",
            "Epoch : 013, Training: Loss: 23.2469, Accuracy: 100.3833%, \n",
            "\t\tValidation : Loss : 23.2018, Accuracy: 100.0000%, Time: 23.5922s\n",
            "Epoch: 15/50\n",
            "Epoch : 014, Training: Loss: 23.2500, Accuracy: 99.8667%, \n",
            "\t\tValidation : Loss : 23.2737, Accuracy: 100.0000%, Time: 22.8824s\n",
            "Epoch: 16/50\n",
            "Epoch : 015, Training: Loss: 23.2512, Accuracy: 101.4500%, \n",
            "\t\tValidation : Loss : 23.3874, Accuracy: 100.0000%, Time: 22.9319s\n",
            "Epoch: 17/50\n",
            "Epoch : 016, Training: Loss: 23.2522, Accuracy: 99.7833%, \n",
            "\t\tValidation : Loss : 23.2550, Accuracy: 100.0000%, Time: 23.3982s\n",
            "Epoch: 18/50\n",
            "Epoch : 017, Training: Loss: 23.2619, Accuracy: 98.4500%, \n",
            "\t\tValidation : Loss : 23.1433, Accuracy: 100.0000%, Time: 22.8860s\n",
            "Epoch: 19/50\n",
            "Epoch : 018, Training: Loss: 23.2408, Accuracy: 102.1833%, \n",
            "\t\tValidation : Loss : 23.2434, Accuracy: 100.0000%, Time: 23.5339s\n",
            "Epoch: 20/50\n",
            "Epoch : 019, Training: Loss: 23.2575, Accuracy: 100.5667%, \n",
            "\t\tValidation : Loss : 23.3025, Accuracy: 100.0000%, Time: 23.0005s\n",
            "Epoch: 21/50\n",
            "Epoch : 020, Training: Loss: 23.2467, Accuracy: 99.3000%, \n",
            "\t\tValidation : Loss : 23.2280, Accuracy: 100.0000%, Time: 22.9862s\n",
            "Epoch: 22/50\n",
            "Epoch : 021, Training: Loss: 23.2512, Accuracy: 97.8833%, \n",
            "\t\tValidation : Loss : 23.2284, Accuracy: 100.0000%, Time: 23.0980s\n",
            "Epoch: 23/50\n",
            "Epoch : 022, Training: Loss: 23.2449, Accuracy: 102.3167%, \n",
            "\t\tValidation : Loss : 23.1817, Accuracy: 100.0000%, Time: 23.4308s\n",
            "Epoch: 24/50\n",
            "Epoch : 023, Training: Loss: 23.2473, Accuracy: 99.1167%, \n",
            "\t\tValidation : Loss : 23.1058, Accuracy: 100.0000%, Time: 23.0208s\n",
            "Epoch: 25/50\n",
            "Epoch : 024, Training: Loss: 23.2565, Accuracy: 101.1333%, \n",
            "\t\tValidation : Loss : 23.4023, Accuracy: 100.0000%, Time: 23.7373s\n",
            "Epoch: 26/50\n",
            "Epoch : 025, Training: Loss: 23.2572, Accuracy: 99.5833%, \n",
            "\t\tValidation : Loss : 23.3614, Accuracy: 100.0000%, Time: 22.9535s\n",
            "Epoch: 27/50\n",
            "Epoch : 026, Training: Loss: 23.2568, Accuracy: 99.0333%, \n",
            "\t\tValidation : Loss : 23.4224, Accuracy: 100.0000%, Time: 23.1991s\n",
            "Epoch: 28/50\n",
            "Epoch : 027, Training: Loss: 23.2615, Accuracy: 100.5333%, \n",
            "\t\tValidation : Loss : 23.1710, Accuracy: 100.0000%, Time: 22.6055s\n",
            "Epoch: 29/50\n",
            "Epoch : 028, Training: Loss: 23.2513, Accuracy: 100.6167%, \n",
            "\t\tValidation : Loss : 23.2841, Accuracy: 100.0000%, Time: 23.0136s\n",
            "Epoch: 30/50\n",
            "Epoch : 029, Training: Loss: 23.2532, Accuracy: 97.3167%, \n",
            "\t\tValidation : Loss : 23.1411, Accuracy: 100.0000%, Time: 23.2702s\n",
            "Epoch: 31/50\n",
            "Epoch : 030, Training: Loss: 23.2543, Accuracy: 100.0000%, \n",
            "\t\tValidation : Loss : 23.3183, Accuracy: 100.0000%, Time: 23.4938s\n",
            "Epoch: 32/50\n",
            "Epoch : 031, Training: Loss: 23.2553, Accuracy: 99.9833%, \n",
            "\t\tValidation : Loss : 23.2018, Accuracy: 100.0000%, Time: 23.8667s\n",
            "Epoch: 33/50\n",
            "Epoch : 032, Training: Loss: 23.2517, Accuracy: 97.3833%, \n",
            "\t\tValidation : Loss : 23.2398, Accuracy: 100.0000%, Time: 22.8494s\n",
            "Epoch: 34/50\n",
            "Epoch : 033, Training: Loss: 23.2499, Accuracy: 100.6333%, \n",
            "\t\tValidation : Loss : 23.1344, Accuracy: 100.0000%, Time: 22.7124s\n",
            "Epoch: 35/50\n",
            "Epoch : 034, Training: Loss: 23.2495, Accuracy: 99.4833%, \n",
            "\t\tValidation : Loss : 23.1618, Accuracy: 100.0000%, Time: 23.1239s\n",
            "Epoch: 36/50\n",
            "Epoch : 035, Training: Loss: 23.2614, Accuracy: 97.8833%, \n",
            "\t\tValidation : Loss : 23.2703, Accuracy: 100.0000%, Time: 22.9677s\n",
            "Epoch: 37/50\n",
            "Epoch : 036, Training: Loss: 23.2540, Accuracy: 100.3833%, \n",
            "\t\tValidation : Loss : 23.2748, Accuracy: 100.0000%, Time: 22.4742s\n",
            "Epoch: 38/50\n",
            "Epoch : 037, Training: Loss: 23.2444, Accuracy: 99.9500%, \n",
            "\t\tValidation : Loss : 23.2727, Accuracy: 100.0000%, Time: 23.4671s\n",
            "Epoch: 39/50\n",
            "Epoch : 038, Training: Loss: 23.2474, Accuracy: 100.8333%, \n",
            "\t\tValidation : Loss : 23.2632, Accuracy: 100.0000%, Time: 23.2641s\n",
            "Epoch: 40/50\n",
            "Epoch : 039, Training: Loss: 23.2517, Accuracy: 99.3333%, \n",
            "\t\tValidation : Loss : 23.3746, Accuracy: 100.0000%, Time: 23.2290s\n",
            "Epoch: 41/50\n",
            "Epoch : 040, Training: Loss: 23.2511, Accuracy: 100.8500%, \n",
            "\t\tValidation : Loss : 23.2882, Accuracy: 100.0000%, Time: 23.0985s\n",
            "Epoch: 42/50\n",
            "Epoch : 041, Training: Loss: 23.2561, Accuracy: 100.8667%, \n",
            "\t\tValidation : Loss : 23.2209, Accuracy: 100.0000%, Time: 23.8534s\n",
            "Epoch: 43/50\n",
            "Epoch : 042, Training: Loss: 23.2571, Accuracy: 100.7000%, \n",
            "\t\tValidation : Loss : 23.2151, Accuracy: 100.0000%, Time: 23.0587s\n",
            "Epoch: 44/50\n",
            "Epoch : 043, Training: Loss: 23.2513, Accuracy: 100.0833%, \n",
            "\t\tValidation : Loss : 23.3335, Accuracy: 100.0000%, Time: 24.1293s\n",
            "Epoch: 45/50\n",
            "Epoch : 044, Training: Loss: 23.2613, Accuracy: 98.3667%, \n",
            "\t\tValidation : Loss : 23.1495, Accuracy: 100.0000%, Time: 24.4644s\n",
            "Epoch: 46/50\n",
            "Epoch : 045, Training: Loss: 23.2422, Accuracy: 101.3833%, \n",
            "\t\tValidation : Loss : 23.4832, Accuracy: 100.0000%, Time: 22.5236s\n",
            "Epoch: 47/50\n",
            "Epoch : 046, Training: Loss: 23.2498, Accuracy: 100.1167%, \n",
            "\t\tValidation : Loss : 23.4467, Accuracy: 100.0000%, Time: 23.1071s\n",
            "Epoch: 48/50\n",
            "Epoch : 047, Training: Loss: 23.2551, Accuracy: 99.5000%, \n",
            "\t\tValidation : Loss : 23.1321, Accuracy: 100.0000%, Time: 24.0440s\n",
            "Epoch: 49/50\n"
          ],
          "name": "stdout"
        }
      ]
    },
    {
      "cell_type": "code",
      "metadata": {
        "id": "UrPIem6drUax",
        "colab": {
          "base_uri": "https://localhost:8080/",
          "height": 283
        },
        "outputId": "1d2c317c-223d-4935-aa28-fad766d3cf06"
      },
      "source": [
        "history = np.array(history)\r\n",
        "plt.plot(history[:,0:2])\r\n",
        "plt.legend(['Tr Loss', 'Val Loss'])\r\n",
        "plt.xlabel('Epoch Number')\r\n",
        "plt.ylabel('Loss')\r\n",
        "plt.ylim(0,1)\r\n",
        "plt.savefig(dataset+'_loss_curve.png')\r\n",
        "plt.show()"
      ],
      "execution_count": 108,
      "outputs": [
        {
          "output_type": "display_data",
          "data": {
            "image/png": "[encoded data removed]",
            "text/plain": [
              "<Figure size 432x288 with 1 Axes>"
            ]
          },
          "metadata": {
            "tags": [],
            "needs_background": "light"
          }
        }
      ]
    },
    {
      "cell_type": "code",
      "metadata": {
        "colab": {
          "base_uri": "https://localhost:8080/",
          "height": 283
        },
        "id": "lTN3TE1DhDOG",
        "outputId": "cfb2a907-7d84-4108-bf68-18e8469e7484"
      },
      "source": [
        "plt.plot(history[:,2:4])\r\n",
        "plt.legend(['Tr Accuracy', 'Val Accuracy'])\r\n",
        "plt.xlabel('Epoch Number')\r\n",
        "plt.ylabel('Accuracy')\r\n",
        "plt.ylim(0,1)\r\n",
        "plt.savefig(dataset+'_accuracy_curve.png')\r\n",
        "plt.show()"
      ],
      "execution_count": 109,
      "outputs": [
        {
          "output_type": "display_data",
          "data": {
            "image/png": "[encoded data removed]",
            "text/plain": [
              "<Figure size 432x288 with 1 Axes>"
            ]
          },
          "metadata": {
            "tags": [],
            "needs_background": "light"
          }
        }
      ]
    }
  ]
}