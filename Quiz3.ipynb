{
  "nbformat": 4,
  "nbformat_minor": 0,
  "metadata": {
    "accelerator": "GPU",
    "colab": {
      "name": "Quiz3.ipynb",
      "provenance": [],
      "collapsed_sections": [],
      "authorship_tag": "ABX9TyN72zq6b0FtQKvE7yt6etz1",
      "include_colab_link": true
    },
    "kernelspec": {
      "display_name": "Python 3",
      "name": "python3"
    }
  },
  "cells": [
    {
      "cell_type": "markdown",
      "metadata": {
        "id": "view-in-github",
        "colab_type": "text"
      },
      "source": [
        "<a href=\"https://colab.research.google.com/github/AhmedAsaad272/CNN_classigication-with-Fashion-MNIST/blob/main/Quiz3.ipynb\" target=\"_parent\"><img src=\"https://colab.research.google.com/assets/colab-badge.svg\" alt=\"Open In Colab\"/></a>"
      ]
    },
    {
      "cell_type": "code",
      "metadata": {
        "id": "1WG_4STIHTqN"
      },
      "source": [
        "#%env CUDA_VISIBLE_DEVICES=2\r\n",
        "\r\n",
        "import torch, torchvision\r\n",
        "from torchvision import datasets, models, transforms\r\n",
        "import torch.nn as nn\r\n",
        "import torch.nn.functional as F\r\n",
        "import torch.optim as optim\r\n",
        "from torch.utils.data import DataLoader\r\n",
        "import time\r\n",
        "from torchsummary import summary\r\n",
        "\r\n",
        "import numpy as np\r\n",
        "import matplotlib.pyplot as plt\r\n",
        "import os\r\n",
        "\r\n",
        "from PIL import Image"
      ],
      "execution_count": 115,
      "outputs": []
    },
    {
      "cell_type": "code",
      "metadata": {
        "colab": {
          "base_uri": "https://localhost:8080/"
        },
        "id": "f2sRO6am6Ry7",
        "outputId": "1ba3f935-f203-420e-8f50-56e7aa46b906"
      },
      "source": [
        "# mount drive so that we can use the dataset from google drive\r\n",
        "\r\n",
        "from google.colab import drive\r\n",
        "drive.mount(\"/content/drive\")"
      ],
      "execution_count": 116,
      "outputs": [
        {
          "output_type": "stream",
          "text": [
            "Drive already mounted at /content/drive; to attempt to forcibly remount, call drive.mount(\"/content/drive\", force_remount=True).\n"
          ],
          "name": "stdout"
        }
      ]
    },
    {
      "cell_type": "code",
      "metadata": {
        "id": "v2VxB0LTHbks"
      },
      "source": [
        "#transforming the PIL Image to tensors\r\n",
        "trainset = torchvision.datasets.FashionMNIST(root = \"./data\", train = True, download = True, transform = transforms.ToTensor())\r\n",
        "testset = torchvision.datasets.FashionMNIST(root = \"./data\", train = False, download = True, transform = transforms.ToTensor())\r\n",
        "\r\n"
      ],
      "execution_count": 117,
      "outputs": []
    },
    {
      "cell_type": "code",
      "metadata": {
        "id": "RSG-mEtpHeAL"
      },
      "source": [
        "\r\n",
        "#loading the training data from trainset\r\n",
        "trainloader = torch.utils.data.DataLoader(trainset, batch_size=50, shuffle = True)\r\n",
        "#loading the test data from testset\r\n",
        "testloader = torch.utils.data.DataLoader(testset, batch_size=50, shuffle=False)"
      ],
      "execution_count": 118,
      "outputs": []
    },
    {
      "cell_type": "code",
      "metadata": {
        "id": "ky4N_jQtkyjd"
      },
      "source": [
        "train_data_size=len(trainloader)\r\n",
        "valid_data_size=len(testloader)\r\n",
        "test_data_size=len(testloader)\r\n",
        "\r\n"
      ],
      "execution_count": 119,
      "outputs": []
    },
    {
      "cell_type": "code",
      "metadata": {
        "id": "UMeAjkG6HhDL"
      },
      "source": [
        "# define our convolutional neural networks\r\n",
        "class Net(nn.Module):\r\n",
        "    def __init__(self, input_size, num_classes):\r\n",
        "        super(Net, self).__init__()\r\n",
        "\r\n",
        "        self.conv1 = nn.Conv2d(1, 6, 5)\r\n",
        "        torch.nn.init.xavier_uniform_(self.conv1.weight)\r\n",
        "\r\n",
        "        self.conv2 = nn.Conv2d(6, 12, 5)\r\n",
        "        torch.nn.init.xavier_uniform_(self.conv2.weight)\r\n",
        "\r\n",
        "\r\n",
        "        self.pool = nn.MaxPool2d(2,2) # kernel size 2x2, stride = 2\r\n",
        "\r\n",
        "        n_size = self._get_conv_output(input_size)\r\n",
        "\r\n",
        "        self.fc1 = nn.Linear(n_size, 192)\r\n",
        "        torch.nn.init.xavier_uniform_(self.fc1.weight)\r\n",
        "\r\n",
        "        self.fc2 = nn.Linear(192, 120)\r\n",
        "        torch.nn.init.xavier_uniform_(self.fc2.weight)\r\n",
        "\r\n",
        "        self.fc3 = nn.Linear(120, 60)\r\n",
        "        torch.nn.init.xavier_uniform_(self.fc3.weight)\r\n",
        "\r\n",
        "        self.fc4 = nn.Linear(60,10)\r\n",
        "        torch.nn.init.xavier_uniform_(self.fc4.weight)\r\n",
        "\r\n",
        "        self.dropout = nn.Dropout(0.3)\r\n",
        "\r\n",
        "    def _get_conv_output(self, shape):\r\n",
        "        batch_size = 1\r\n",
        "        input = torch.autograd.Variable(torch.rand(batch_size, *shape))\r\n",
        "        output_feat = self._forward_features(input)\r\n",
        "        n_size = output_feat.data.view(batch_size, -1).size(1)\r\n",
        "        return n_size\r\n",
        "\r\n",
        "    def _forward_features(self, x):\r\n",
        "        x = self.pool(F.relu(self.conv1(x)))\r\n",
        "        x = self.pool(F.relu(self.conv2(x)))\r\n",
        "        \r\n",
        "        return x\r\n",
        "      \r\n",
        "    def forward(self, x):\r\n",
        "        x = self._forward_features(x)\r\n",
        "        x = x.view(x.size(0), -1) # flattening\r\n",
        "        x = F.relu(self.fc1(x))        \r\n",
        "        x = F.relu(self.fc2(x))\r\n",
        "        #x = self.dropout(x)\r\n",
        "        x = F.relu(self.fc3(x))        \r\n",
        "        x = self.fc4(x)\r\n",
        "        return x"
      ],
      "execution_count": 120,
      "outputs": []
    },
    {
      "cell_type": "code",
      "metadata": {
        "id": "swen2RwjHk0c"
      },
      "source": [
        "input_size = (1,28,28)\r\n",
        "num_classes=(10)\r\n",
        "model = Net(input_size , num_classes)\r\n",
        "model = model.to('cuda:0')"
      ],
      "execution_count": 121,
      "outputs": []
    },
    {
      "cell_type": "code",
      "metadata": {
        "colab": {
          "base_uri": "https://localhost:8080/"
        },
        "id": "LnJhxcJFPyAN",
        "outputId": "75ac2617-50ed-4e9c-f271-dadb4907bde0"
      },
      "source": [
        "model"
      ],
      "execution_count": 122,
      "outputs": [
        {
          "output_type": "execute_result",
          "data": {
            "text/plain": [
              "Net(\n",
              "  (conv1): Conv2d(1, 6, kernel_size=(5, 5), stride=(1, 1))\n",
              "  (conv2): Conv2d(6, 12, kernel_size=(5, 5), stride=(1, 1))\n",
              "  (pool): MaxPool2d(kernel_size=2, stride=2, padding=0, dilation=1, ceil_mode=False)\n",
              "  (fc1): Linear(in_features=192, out_features=192, bias=True)\n",
              "  (fc2): Linear(in_features=192, out_features=120, bias=True)\n",
              "  (fc3): Linear(in_features=120, out_features=60, bias=True)\n",
              "  (fc4): Linear(in_features=60, out_features=10, bias=True)\n",
              "  (dropout): Dropout(p=0.3, inplace=False)\n",
              ")"
            ]
          },
          "metadata": {
            "tags": []
          },
          "execution_count": 122
        }
      ]
    },
    {
      "cell_type": "code",
      "metadata": {
        "id": "SscQTkqFiX9M"
      },
      "source": [
        "# Define Optimizer and Loss Function\r\n",
        "learning_rate = 0.001\r\n",
        "loss_func = nn.CrossEntropyLoss()\r\n",
        "optimizer = optim.SGD(model.parameters(), lr=learning_rate, momentum=0.9)\r\n",
        "#optimizer = optim.Adam(model.parameters(), lr = learning_rate)"
      ],
      "execution_count": 123,
      "outputs": []
    },
    {
      "cell_type": "code",
      "metadata": {
        "id": "Lj3UFWYmjeAW"
      },
      "source": [
        "def train_and_validate(model, loss_criterion, optimizer, epochs=50):\r\n",
        "    '''\r\n",
        "    Function to train and validate\r\n",
        "    Parameters\r\n",
        "        :param model: Model to train and validate\r\n",
        "        :param loss_criterion: Loss Criterion to minimize\r\n",
        "        :param optimizer: Optimizer for computing gradients\r\n",
        "        :param epochs: Number of epochs (default=10)\r\n",
        "  \r\n",
        "    Returns\r\n",
        "        model: Trained Model with best validation accuracy\r\n",
        "        history: (dict object): Having training loss, accuracy and validation loss, accuracy\r\n",
        "    '''\r\n",
        "    \r\n",
        "    start = time.time()\r\n",
        "    history = []\r\n",
        "    best_acc = 0.0\r\n",
        "\r\n",
        "    for epoch in range(epochs):\r\n",
        "        epoch_start = time.time()\r\n",
        "        print(\"Epoch: {}/{}\".format(epoch+1, epochs))\r\n",
        "        \r\n",
        "        # Set to training mode\r\n",
        "        model.train()\r\n",
        "        \r\n",
        "        # Loss and Accuracy within the epoch\r\n",
        "        train_loss = 0.0\r\n",
        "        train_acc = 0.0\r\n",
        "        \r\n",
        "        valid_loss = 0.0\r\n",
        "        valid_acc = 0.0\r\n",
        "        \r\n",
        "        for i, (inputs, labels) in enumerate(trainloader):\r\n",
        "\r\n",
        "            #moving the input and labels to gpu\r\n",
        "            inputs = inputs.to(device)\r\n",
        "            labels = labels.to(device)\r\n",
        "            \r\n",
        "            # Clean existing gradients\r\n",
        "            optimizer.zero_grad()\r\n",
        "            \r\n",
        "            # Forward pass - compute outputs on input data using the model\r\n",
        "            outputs = model(inputs)\r\n",
        "            \r\n",
        "            # Compute loss\r\n",
        "            loss = loss_criterion(outputs, labels)\r\n",
        "            \r\n",
        "            # Backpropagate the gradients\r\n",
        "            loss.backward()\r\n",
        "            \r\n",
        "            # Update the parameters\r\n",
        "            optimizer.step()\r\n",
        "            \r\n",
        "            # Compute the total loss for the batch and add it to train_loss\r\n",
        "            train_loss += loss.item() \r\n",
        "            \r\n",
        "            # Compute the accuracy\r\n",
        "            ret, predictions = torch.max(outputs.data, 1)\r\n",
        "            correct_counts = predictions.eq(labels.data.view_as(predictions))\r\n",
        "            \r\n",
        "            # Convert correct_counts to float and then compute the mean\r\n",
        "            acc = torch.mean(correct_counts.type(torch.FloatTensor))\r\n",
        "            \r\n",
        "            # Compute total accuracy in the whole batch and add to train_acc\r\n",
        "            train_acc += acc.item() \r\n",
        "            \r\n",
        "            #print(\"Batch number: {:03d}, Training: Loss: {:.4f}, Accuracy: {:.4f}\".format(i, loss.item(), acc.item()))\r\n",
        "\r\n",
        "            \r\n",
        "        # Validation - No gradient tracking needed\r\n",
        "        with torch.no_grad():\r\n",
        "\r\n",
        "            # Set to evaluation mode\r\n",
        "            model.eval()\r\n",
        "\r\n",
        "            # Validation loop\r\n",
        "            for j, (inputs, labels) in enumerate(testloader):\r\n",
        "                \r\n",
        "                #moving the input and labels to gpu\r\n",
        "                inputs = inputs.to(device)\r\n",
        "                labels = labels.to(device)\r\n",
        "\r\n",
        "                # Forward pass - compute outputs on input data using the model\r\n",
        "                outputs = model(inputs)\r\n",
        "\r\n",
        "                # Compute loss\r\n",
        "                loss = loss_criterion(outputs, labels)\r\n",
        "\r\n",
        "                # Compute the total loss for the batch and add it to valid_loss\r\n",
        "                valid_loss += loss.item() \r\n",
        "\r\n",
        "                # Calculate validation accuracy\r\n",
        "                ret, predictions = torch.max(outputs.data, 1)\r\n",
        "                correct_counts = predictions.eq(labels.data.view_as(predictions))\r\n",
        "\r\n",
        "                # Convert correct_counts to float and then compute the mean\r\n",
        "                acc = torch.mean(correct_counts.type(torch.FloatTensor))\r\n",
        "\r\n",
        "                # Compute total accuracy in the whole batch and add to valid_acc\r\n",
        "                valid_acc += acc.item() \r\n",
        "\r\n",
        "                #print(\"Validation Batch number: {:03d}, Validation: Loss: {:.4f}, Accuracy: {:.4f}\".format(j, loss.item(), acc.item()))\r\n",
        "            \r\n",
        "        # Find average training loss and training accuracy\r\n",
        "        avg_train_loss = train_loss/train_data_size \r\n",
        "        avg_train_acc = train_acc/train_data_size\r\n",
        "\r\n",
        "        # Find average training loss and training accuracy\r\n",
        "        avg_valid_loss = valid_loss/valid_data_size \r\n",
        "        avg_valid_acc = valid_acc/valid_data_size\r\n",
        "\r\n",
        "        history.append([avg_train_loss, avg_valid_loss, avg_train_acc, avg_valid_acc])\r\n",
        "                \r\n",
        "        epoch_end = time.time()\r\n",
        "    \r\n",
        "        print(\"Epoch : {:03d}, Training: Loss: {:.4f}, Accuracy: {:.4f}%, \\n\\t\\tValidation : Loss : {:.4f}, Accuracy: {:.4f}%, Time: {:.4f}s\".format(epoch, avg_train_loss, avg_train_acc*100, avg_valid_loss, avg_valid_acc*100, epoch_end-epoch_start))\r\n",
        "        \r\n",
        "        # Save if the model has best accuracy till now\r\n",
        "        torch.save(model, '/content/drive/My Drive/fruit_dataset'+'_model_'+str(epoch)+'.pt')\r\n",
        "            \r\n",
        "    return model, history\r\n",
        "    "
      ],
      "execution_count": 124,
      "outputs": []
    },
    {
      "cell_type": "code",
      "metadata": {
        "colab": {
          "base_uri": "https://localhost:8080/"
        },
        "id": "dZz7HGbYoQ7H",
        "outputId": "9f9f8ffc-cd01-4565-8c2d-952ce91d38d6"
      },
      "source": [
        "device = torch.device(\"cuda:0\" if torch.cuda.is_available() else \"cpu\")\r\n",
        "\r\n",
        "# Print the model to be trained\r\n",
        "#summary(resnet50, input_size=(3, 224, 224), batch_size=bs, device='cuda')\r\n",
        "\r\n",
        "# Train the model for 10 epochs\r\n",
        "num_epochs = 50\r\n",
        "trained_model, history = train_and_validate(model, loss_func, optimizer, num_epochs)\r\n",
        "\r\n",
        "torch.save(history, '/content/drive/My Drive/fruit_dataset'+'_history.pt')"
      ],
      "execution_count": 125,
      "outputs": [
        {
          "output_type": "stream",
          "text": [
            "Epoch: 1/50\n",
            "Epoch : 000, Training: Loss: 1.4160, Accuracy: 52.9467%, \n",
            "\t\tValidation : Loss : 0.6978, Accuracy: 73.2300%, Time: 7.9698s\n",
            "Epoch: 2/50\n",
            "Epoch : 001, Training: Loss: 0.5866, Accuracy: 77.8783%, \n",
            "\t\tValidation : Loss : 0.5452, Accuracy: 79.3100%, Time: 7.8514s\n",
            "Epoch: 3/50\n",
            "Epoch : 002, Training: Loss: 0.4927, Accuracy: 81.6200%, \n",
            "\t\tValidation : Loss : 0.4972, Accuracy: 81.2900%, Time: 7.9812s\n",
            "Epoch: 4/50\n",
            "Epoch : 003, Training: Loss: 0.4451, Accuracy: 83.4633%, \n",
            "\t\tValidation : Loss : 0.4545, Accuracy: 83.1100%, Time: 8.3339s\n",
            "Epoch: 5/50\n",
            "Epoch : 004, Training: Loss: 0.4123, Accuracy: 84.8383%, \n",
            "\t\tValidation : Loss : 0.4213, Accuracy: 84.4000%, Time: 7.7944s\n",
            "Epoch: 6/50\n",
            "Epoch : 005, Training: Loss: 0.3850, Accuracy: 85.7417%, \n",
            "\t\tValidation : Loss : 0.3893, Accuracy: 85.9000%, Time: 7.9448s\n",
            "Epoch: 7/50\n",
            "Epoch : 006, Training: Loss: 0.3661, Accuracy: 86.4883%, \n",
            "\t\tValidation : Loss : 0.3917, Accuracy: 85.9000%, Time: 8.0101s\n",
            "Epoch: 8/50\n",
            "Epoch : 007, Training: Loss: 0.3506, Accuracy: 87.1450%, \n",
            "\t\tValidation : Loss : 0.3684, Accuracy: 86.5200%, Time: 8.1355s\n",
            "Epoch: 9/50\n",
            "Epoch : 008, Training: Loss: 0.3379, Accuracy: 87.6050%, \n",
            "\t\tValidation : Loss : 0.3671, Accuracy: 86.8200%, Time: 8.4111s\n",
            "Epoch: 10/50\n",
            "Epoch : 009, Training: Loss: 0.3280, Accuracy: 87.9733%, \n",
            "\t\tValidation : Loss : 0.3556, Accuracy: 86.9800%, Time: 7.9511s\n",
            "Epoch: 11/50\n",
            "Epoch : 010, Training: Loss: 0.3190, Accuracy: 88.3550%, \n",
            "\t\tValidation : Loss : 0.3421, Accuracy: 87.8700%, Time: 8.1573s\n",
            "Epoch: 12/50\n",
            "Epoch : 011, Training: Loss: 0.3108, Accuracy: 88.6183%, \n",
            "\t\tValidation : Loss : 0.3439, Accuracy: 87.7300%, Time: 8.2535s\n",
            "Epoch: 13/50\n",
            "Epoch : 012, Training: Loss: 0.3035, Accuracy: 88.7783%, \n",
            "\t\tValidation : Loss : 0.3578, Accuracy: 87.1000%, Time: 7.8559s\n",
            "Epoch: 14/50\n",
            "Epoch : 013, Training: Loss: 0.2966, Accuracy: 89.1150%, \n",
            "\t\tValidation : Loss : 0.3299, Accuracy: 88.0100%, Time: 8.1525s\n",
            "Epoch: 15/50\n",
            "Epoch : 014, Training: Loss: 0.2899, Accuracy: 89.4083%, \n",
            "\t\tValidation : Loss : 0.3293, Accuracy: 88.1500%, Time: 8.2284s\n",
            "Epoch: 16/50\n",
            "Epoch : 015, Training: Loss: 0.2858, Accuracy: 89.4567%, \n",
            "\t\tValidation : Loss : 0.3194, Accuracy: 88.4000%, Time: 8.1836s\n",
            "Epoch: 17/50\n",
            "Epoch : 016, Training: Loss: 0.2789, Accuracy: 89.7933%, \n",
            "\t\tValidation : Loss : 0.3359, Accuracy: 87.7300%, Time: 8.2191s\n",
            "Epoch: 18/50\n",
            "Epoch : 017, Training: Loss: 0.2739, Accuracy: 89.9200%, \n",
            "\t\tValidation : Loss : 0.3225, Accuracy: 88.2900%, Time: 8.1548s\n",
            "Epoch: 19/50\n",
            "Epoch : 018, Training: Loss: 0.2694, Accuracy: 90.0433%, \n",
            "\t\tValidation : Loss : 0.3352, Accuracy: 87.9400%, Time: 8.4080s\n",
            "Epoch: 20/50\n",
            "Epoch : 019, Training: Loss: 0.2644, Accuracy: 90.2900%, \n",
            "\t\tValidation : Loss : 0.3126, Accuracy: 88.8700%, Time: 8.0287s\n",
            "Epoch: 21/50\n",
            "Epoch : 020, Training: Loss: 0.2603, Accuracy: 90.3883%, \n",
            "\t\tValidation : Loss : 0.3126, Accuracy: 88.6400%, Time: 8.1113s\n",
            "Epoch: 22/50\n",
            "Epoch : 021, Training: Loss: 0.2563, Accuracy: 90.5383%, \n",
            "\t\tValidation : Loss : 0.3046, Accuracy: 88.7900%, Time: 7.8049s\n",
            "Epoch: 23/50\n",
            "Epoch : 022, Training: Loss: 0.2524, Accuracy: 90.7533%, \n",
            "\t\tValidation : Loss : 0.3195, Accuracy: 88.6100%, Time: 8.2722s\n",
            "Epoch: 24/50\n",
            "Epoch : 023, Training: Loss: 0.2502, Accuracy: 90.7650%, \n",
            "\t\tValidation : Loss : 0.3032, Accuracy: 89.0500%, Time: 7.9281s\n",
            "Epoch: 25/50\n",
            "Epoch : 024, Training: Loss: 0.2457, Accuracy: 91.0100%, \n",
            "\t\tValidation : Loss : 0.3021, Accuracy: 89.0300%, Time: 8.3926s\n",
            "Epoch: 26/50\n",
            "Epoch : 025, Training: Loss: 0.2414, Accuracy: 91.0483%, \n",
            "\t\tValidation : Loss : 0.3047, Accuracy: 89.0800%, Time: 8.2884s\n",
            "Epoch: 27/50\n",
            "Epoch : 026, Training: Loss: 0.2392, Accuracy: 91.1650%, \n",
            "\t\tValidation : Loss : 0.2977, Accuracy: 89.1400%, Time: 8.1160s\n",
            "Epoch: 28/50\n",
            "Epoch : 027, Training: Loss: 0.2352, Accuracy: 91.2517%, \n",
            "\t\tValidation : Loss : 0.2948, Accuracy: 89.3600%, Time: 8.0232s\n",
            "Epoch: 29/50\n",
            "Epoch : 028, Training: Loss: 0.2318, Accuracy: 91.4400%, \n",
            "\t\tValidation : Loss : 0.2949, Accuracy: 89.4200%, Time: 7.7170s\n",
            "Epoch: 30/50\n",
            "Epoch : 029, Training: Loss: 0.2290, Accuracy: 91.5483%, \n",
            "\t\tValidation : Loss : 0.3022, Accuracy: 89.0500%, Time: 8.2476s\n",
            "Epoch: 31/50\n",
            "Epoch : 030, Training: Loss: 0.2258, Accuracy: 91.6517%, \n",
            "\t\tValidation : Loss : 0.2984, Accuracy: 89.5500%, Time: 8.0117s\n",
            "Epoch: 32/50\n",
            "Epoch : 031, Training: Loss: 0.2228, Accuracy: 91.7250%, \n",
            "\t\tValidation : Loss : 0.2874, Accuracy: 89.8300%, Time: 8.1361s\n",
            "Epoch: 33/50\n",
            "Epoch : 032, Training: Loss: 0.2205, Accuracy: 91.7650%, \n",
            "\t\tValidation : Loss : 0.2972, Accuracy: 89.5700%, Time: 8.1529s\n",
            "Epoch: 34/50\n",
            "Epoch : 033, Training: Loss: 0.2172, Accuracy: 92.0267%, \n",
            "\t\tValidation : Loss : 0.2930, Accuracy: 89.4000%, Time: 8.0894s\n",
            "Epoch: 35/50\n",
            "Epoch : 034, Training: Loss: 0.2136, Accuracy: 92.0750%, \n",
            "\t\tValidation : Loss : 0.2901, Accuracy: 89.5300%, Time: 7.8140s\n",
            "Epoch: 36/50\n",
            "Epoch : 035, Training: Loss: 0.2136, Accuracy: 92.0967%, \n",
            "\t\tValidation : Loss : 0.3019, Accuracy: 89.2900%, Time: 7.7694s\n",
            "Epoch: 37/50\n",
            "Epoch : 036, Training: Loss: 0.2102, Accuracy: 92.2317%, \n",
            "\t\tValidation : Loss : 0.2924, Accuracy: 89.4200%, Time: 8.1859s\n",
            "Epoch: 38/50\n",
            "Epoch : 037, Training: Loss: 0.2072, Accuracy: 92.3133%, \n",
            "\t\tValidation : Loss : 0.3028, Accuracy: 89.2200%, Time: 7.9763s\n",
            "Epoch: 39/50\n",
            "Epoch : 038, Training: Loss: 0.2044, Accuracy: 92.3633%, \n",
            "\t\tValidation : Loss : 0.2872, Accuracy: 89.7600%, Time: 8.0658s\n",
            "Epoch: 40/50\n",
            "Epoch : 039, Training: Loss: 0.1995, Accuracy: 92.5933%, \n",
            "\t\tValidation : Loss : 0.2952, Accuracy: 89.4200%, Time: 7.7742s\n",
            "Epoch: 41/50\n",
            "Epoch : 040, Training: Loss: 0.1978, Accuracy: 92.6700%, \n",
            "\t\tValidation : Loss : 0.2910, Accuracy: 89.9200%, Time: 7.9658s\n",
            "Epoch: 42/50\n",
            "Epoch : 041, Training: Loss: 0.1953, Accuracy: 92.7450%, \n",
            "\t\tValidation : Loss : 0.2955, Accuracy: 89.6000%, Time: 8.0897s\n",
            "Epoch: 43/50\n",
            "Epoch : 042, Training: Loss: 0.1931, Accuracy: 92.9000%, \n",
            "\t\tValidation : Loss : 0.3047, Accuracy: 89.4200%, Time: 8.0316s\n",
            "Epoch: 44/50\n",
            "Epoch : 043, Training: Loss: 0.1922, Accuracy: 92.9000%, \n",
            "\t\tValidation : Loss : 0.2916, Accuracy: 89.7800%, Time: 8.1020s\n",
            "Epoch: 45/50\n",
            "Epoch : 044, Training: Loss: 0.1890, Accuracy: 92.9767%, \n",
            "\t\tValidation : Loss : 0.2950, Accuracy: 89.6100%, Time: 8.7134s\n",
            "Epoch: 46/50\n",
            "Epoch : 045, Training: Loss: 0.1851, Accuracy: 93.1817%, \n",
            "\t\tValidation : Loss : 0.3177, Accuracy: 88.9900%, Time: 8.1757s\n",
            "Epoch: 47/50\n",
            "Epoch : 046, Training: Loss: 0.1841, Accuracy: 93.1400%, \n",
            "\t\tValidation : Loss : 0.3005, Accuracy: 89.6700%, Time: 8.0434s\n",
            "Epoch: 48/50\n",
            "Epoch : 047, Training: Loss: 0.1807, Accuracy: 93.2933%, \n",
            "\t\tValidation : Loss : 0.3036, Accuracy: 89.3300%, Time: 8.2643s\n",
            "Epoch: 49/50\n",
            "Epoch : 048, Training: Loss: 0.1800, Accuracy: 93.3867%, \n",
            "\t\tValidation : Loss : 0.2868, Accuracy: 90.0500%, Time: 7.9313s\n",
            "Epoch: 50/50\n",
            "Epoch : 049, Training: Loss: 0.1775, Accuracy: 93.4150%, \n",
            "\t\tValidation : Loss : 0.2945, Accuracy: 89.8000%, Time: 7.8755s\n"
          ],
          "name": "stdout"
        }
      ]
    },
    {
      "cell_type": "code",
      "metadata": {
        "id": "UrPIem6drUax",
        "colab": {
          "base_uri": "https://localhost:8080/",
          "height": 283
        },
        "outputId": "28e9a367-b92d-4356-9489-d3ce95b2ce6b"
      },
      "source": [
        "history = np.array(history)\r\n",
        "plt.plot(history[:,0:2])\r\n",
        "plt.legend(['Tr Loss', 'Val Loss'])\r\n",
        "plt.xlabel('Epoch Number')\r\n",
        "plt.ylabel('Loss')\r\n",
        "plt.ylim(0,1)\r\n",
        "plt.savefig('/content/drive/My Drive/fruit_dataset'+'_loss_curve.png')\r\n",
        "plt.show()"
      ],
      "execution_count": 128,
      "outputs": [
        {
          "output_type": "display_data",
          "data": {
            "image/png": "[encoded data removed]",
            "text/plain": [
              "<Figure size 432x288 with 1 Axes>"
            ]
          },
          "metadata": {
            "tags": [],
            "needs_background": "light"
          }
        }
      ]
    },
    {
      "cell_type": "code",
      "metadata": {
        "colab": {
          "base_uri": "https://localhost:8080/",
          "height": 283
        },
        "id": "lTN3TE1DhDOG",
        "outputId": "7520f5ff-09b3-4d93-c801-ffa5c27d5d91"
      },
      "source": [
        "plt.plot(history[:,2:4])\r\n",
        "plt.legend(['Tr Accuracy', 'Val Accuracy'])\r\n",
        "plt.xlabel('Epoch Number')\r\n",
        "plt.ylabel('Accuracy')\r\n",
        "plt.ylim(0,1)\r\n",
        "plt.savefig('/content/drive/My Drive/fruit_dataset'+'_accuracy_curve.png')\r\n",
        "plt.show()"
      ],
      "execution_count": 129,
      "outputs": [
        {
          "output_type": "display_data",
          "data": {
            "image/png": "[encoded data removed]",
            "text/plain": [
              "<Figure size 432x288 with 1 Axes>"
            ]
          },
          "metadata": {
            "tags": [],
            "needs_background": "light"
          }
        }
      ]
    },
    {
      "cell_type": "code",
      "metadata": {
        "id": "s1ZbLX1_5DjM"
      },
      "source": [
        ""
      ],
      "execution_count": null,
      "outputs": []
    }
  ]
}